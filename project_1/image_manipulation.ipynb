{
 "cells": [
  {
   "cell_type": "code",
   "execution_count": 66,
   "id": "75cfafc7-1da8-4e98-9909-5e0b93c0b950",
   "metadata": {},
   "outputs": [],
   "source": [
    "import os\n",
    "from PIL import Image"
   ]
  },
  {
   "cell_type": "code",
   "execution_count": 71,
   "id": "c499868d-53dc-40b3-99cd-631bda6aa09d",
   "metadata": {},
   "outputs": [],
   "source": [
    "directory = \"images/\"\n",
    "dest_path = \"./opt/icons\""
   ]
  },
  {
   "cell_type": "code",
   "execution_count": 73,
   "id": "c2318198-a5db-4fad-aa36-cb00aa0c6518",
   "metadata": {},
   "outputs": [],
   "source": [
    "for filename in os.listdir(directory):\n",
    "    #print(filename)\n",
    "    path = os.path.join(directory, filename)\n",
    "    save_path = os.path.join(dest_path, filename+\".jpg\")\n",
    "    #print(save_path)\n",
    "    img = Image.open(path)\n",
    "    new_img = img.rotate(-90).resize((128,128)).convert(\"RGB\")\n",
    "    #new_img.save(filename+\".jpg\")\n",
    "    new_img.save(save_path)"
   ]
  },
  {
   "cell_type": "code",
   "execution_count": 38,
   "id": "54eb683e-155e-4b0c-a673-d0591625a783",
   "metadata": {},
   "outputs": [],
   "source": [
    "img.show()"
   ]
  },
  {
   "cell_type": "code",
   "execution_count": 39,
   "id": "1b47e244-dc33-4ec4-848c-6d1c9cd85dac",
   "metadata": {},
   "outputs": [
    {
     "name": "stdout",
     "output_type": "stream",
     "text": [
      "TIFF (192, 192) LA\n"
     ]
    }
   ],
   "source": [
    "print(img.format, img.size, img.mode)"
   ]
  },
  {
   "cell_type": "code",
   "execution_count": 41,
   "id": "f661518c-fbe2-457a-a1a0-100a733f3b21",
   "metadata": {},
   "outputs": [],
   "source": [
    "new_img = img.rotate(-90).resize((128,128)).convert(\"RGB\")"
   ]
  },
  {
   "cell_type": "code",
   "execution_count": 42,
   "id": "ab788218-5e09-42e9-8610-6e22f9fd98c2",
   "metadata": {},
   "outputs": [],
   "source": [
    "new_img.save(\"new_img.jpg\")"
   ]
  },
  {
   "cell_type": "code",
   "execution_count": 43,
   "id": "da640926-1f77-42e6-b8c4-77d6fdb42f5e",
   "metadata": {},
   "outputs": [],
   "source": [
    "k = Image.open(\"new_img.jpg\")\n",
    "k.show()"
   ]
  },
  {
   "cell_type": "code",
   "execution_count": 44,
   "id": "4c233f2d-3f9b-4713-850c-fcc2035b0278",
   "metadata": {},
   "outputs": [
    {
     "name": "stdout",
     "output_type": "stream",
     "text": [
      "JPEG (128, 128) RGB\n"
     ]
    }
   ],
   "source": [
    "print(k.format, k.size, k.mode)"
   ]
  }
 ],
 "metadata": {
  "kernelspec": {
   "display_name": "Python 3 (ipykernel)",
   "language": "python",
   "name": "python3"
  },
  "language_info": {
   "codemirror_mode": {
    "name": "ipython",
    "version": 3
   },
   "file_extension": ".py",
   "mimetype": "text/x-python",
   "name": "python",
   "nbconvert_exporter": "python",
   "pygments_lexer": "ipython3",
   "version": "3.8.10"
  }
 },
 "nbformat": 4,
 "nbformat_minor": 5
}
